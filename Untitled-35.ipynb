{
 "cells": [
  {
   "cell_type": "code",
   "execution_count": null,
   "metadata": {},
   "outputs": [],
   "source": [
    "variable \n",
    "  i,s,m:reels \n",
    "tableau\n",
    "   V(3):reel\n",
    "   U(3):reel\n",
    "s=0\n",
    "pour i recoit 0 a 2 pas 1 faire\n",
    "ecrire(\"donner la coefficient de V numero\",i+1)\n",
    "lire(V(i))\n",
    "ecrire(\"donner la coefficient de U numero\",i+1)\n",
    "lire(U(i))\n",
    "m=V(i)*U(i)\n",
    "s=s+m\n",
    "fin pour \n",
    "ecrire(\"le resultet:\",s)\n",
    "fin"
   ]
  }
 ],
 "metadata": {
  "language_info": {
   "name": "python"
  }
 },
 "nbformat": 4,
 "nbformat_minor": 2
}
